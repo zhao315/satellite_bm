{
 "cells": [
  {
   "cell_type": "markdown",
   "id": "9db353d7-dada-4e55-a794-3a0be922fbef",
   "metadata": {},
   "source": [
    "### Interpolation"
   ]
  },
  {
   "cell_type": "markdown",
   "id": "c9516b18-0365-4242-bd15-ca19ca6b6640",
   "metadata": {},
   "source": [
    "$$\n",
    "y = y_0 + \\frac{a}{c} \\exp \\left[-0.5 \\left( \\frac{\\ln (x / x_0)}{b} \\right)^2 \\right]\n",
    "$$"
   ]
  },
  {
   "cell_type": "code",
   "execution_count": 1,
   "id": "8bbf8735-42d9-46ab-afbb-78406573931c",
   "metadata": {
    "tags": []
   },
   "outputs": [],
   "source": [
    "import os\n",
    "from rich import print"
   ]
  },
  {
   "cell_type": "code",
   "execution_count": 2,
   "id": "17240f31-cc7d-4e76-abd9-95187d9a4072",
   "metadata": {
    "tags": []
   },
   "outputs": [],
   "source": [
    "import numpy as np\n",
    "import pandas as pd\n",
    "import seaborn as sns\n",
    "import matplotlib.pyplot as plt"
   ]
  },
  {
   "cell_type": "code",
   "execution_count": 3,
   "id": "2c1096ee-5f7f-4505-ad81-c293a71ea5c6",
   "metadata": {
    "tags": []
   },
   "outputs": [],
   "source": [
    "%matplotlib inline\n",
    "\n",
    "sns.set()"
   ]
  },
  {
   "cell_type": "code",
   "execution_count": 4,
   "id": "cbb64992-b8c9-4599-87de-b8de160d8367",
   "metadata": {
    "tags": []
   },
   "outputs": [],
   "source": [
    "from scipy.optimize import curve_fit"
   ]
  },
  {
   "cell_type": "markdown",
   "id": "22c79b8c-a9e9-4788-ad5f-108eb09fa23d",
   "metadata": {},
   "source": [
    "#### load data"
   ]
  },
  {
   "cell_type": "code",
   "execution_count": 5,
   "id": "19b7c7a7-aeed-44b7-b912-a732eec94a08",
   "metadata": {
    "tags": []
   },
   "outputs": [],
   "source": [
    "p4m_data = pd.read_csv(\"p4m_data.csv\")\n",
    "planet_data = pd.read_csv(\"planet_data.csv\")"
   ]
  },
  {
   "cell_type": "markdown",
   "id": "7f0c04b3-ee47-44cd-a27c-d8d5d48d55c1",
   "metadata": {},
   "source": [
    "#### convert date to index"
   ]
  },
  {
   "cell_type": "code",
   "execution_count": 18,
   "id": "7d31d75b-75e0-4bb0-8525-078d520b0eb9",
   "metadata": {
    "tags": []
   },
   "outputs": [],
   "source": [
    "from datetime import datetime\n",
    "\n",
    "date_format = \"%Y%m%d\"\n",
    "seeding_date = \"230305\""
   ]
  },
  {
   "cell_type": "code",
   "execution_count": 19,
   "id": "ac7f328c-2d82-459e-8c68-ee67b5eb676f",
   "metadata": {
    "tags": []
   },
   "outputs": [],
   "source": [
    "p4m_columns = [seeding_date,] +  p4m_data.columns[1:].values.tolist()\n",
    "planet_columns = [seeding_date,] +  planet_data.columns[1:].values.tolist()"
   ]
  },
  {
   "cell_type": "code",
   "execution_count": 20,
   "id": "6a40d79d-3f4e-4115-a345-a309ecbeefc8",
   "metadata": {
    "tags": []
   },
   "outputs": [],
   "source": [
    "def calculate_delta_days(day1, day2):\n",
    "    day1 = \"20\" + day1\n",
    "    day2 = \"20\" + day2\n",
    "\n",
    "    day1 = datetime.strptime(day1, date_format)\n",
    "    day2 = datetime.strptime(day2, date_format)\n",
    "\n",
    "    delta = (day2 - day1).days\n",
    "    return delta"
   ]
  },
  {
   "cell_type": "code",
   "execution_count": 21,
   "id": "167f2021-0ceb-4032-a1ce-b25d61382a70",
   "metadata": {
    "tags": []
   },
   "outputs": [],
   "source": [
    "p4m_indexes = [ \n",
    "    calculate_delta_days(seeding_date, day) for day in p4m_columns\n",
    "]"
   ]
  },
  {
   "cell_type": "code",
   "execution_count": 22,
   "id": "aa70b8fb-47a0-4726-a226-4ed389e3f67b",
   "metadata": {
    "tags": []
   },
   "outputs": [],
   "source": [
    "planet_indexes = [ \n",
    "    calculate_delta_days(seeding_date, day) for day in planet_columns\n",
    "]"
   ]
  },
  {
   "cell_type": "code",
   "execution_count": 23,
   "id": "b82cd167-9a4e-4883-b627-a8375670fb2c",
   "metadata": {
    "tags": []
   },
   "outputs": [],
   "source": [
    "# insert seeding day\n",
    "# np_p4m_data = p4m_data.values[:, 1:].copy()\n",
    "# np_p4m_data = np.insert(np_p4m_data, 0, 0., axis=1)\n",
    "\n",
    "\n",
    "# np_planet_data = planet_data.values[:, 1:].copy()\n",
    "# np_planet_data = np.insert(np_planet_data, 0, 0., axis=1)"
   ]
  },
  {
   "cell_type": "code",
   "execution_count": 24,
   "id": "e7852273-dab2-446b-913c-b222ca65b3f4",
   "metadata": {
    "tags": []
   },
   "outputs": [
    {
     "data": {
      "text/plain": [
       "((3527, 10), (3527, 10), (3527, 20), (3527, 20))"
      ]
     },
     "execution_count": 24,
     "metadata": {},
     "output_type": "execute_result"
    }
   ],
   "source": [
    "p4m_data.shape, np_p4m_data.shape, planet_data.shape, np_planet_data.shape"
   ]
  },
  {
   "cell_type": "markdown",
   "id": "fe731c7f-2566-4dea-b8e2-1179978eb3c9",
   "metadata": {},
   "source": [
    "#### "
   ]
  },
  {
   "cell_type": "markdown",
   "id": "91894b93-9303-4aac-81c6-136f328e0181",
   "metadata": {},
   "source": [
    "#### curve fit by rows"
   ]
  },
  {
   "cell_type": "markdown",
   "id": "e3c00002-d483-4a0c-95fc-b942a4fd35b6",
   "metadata": {},
   "source": [
    "#### define function"
   ]
  },
  {
   "cell_type": "code",
   "execution_count": 49,
   "id": "49dcbdf9-8592-4c37-8bbd-ff0d35cbd8b7",
   "metadata": {
    "tags": []
   },
   "outputs": [],
   "source": [
    "def func(x, a, b, c):\n",
    "    # temp_1 = np.log(x / x0 + 10e-5) / b\n",
    "    temp_1 = np.log(x / 10e-5) / b\n",
    "    temp_2 = a / c * np.exp(-0.5 * temp_1**2)\n",
    "    # result = y0 + temp_2\n",
    "    # return result\n",
    "    return temp_2"
   ]
  },
  {
   "cell_type": "code",
   "execution_count": 50,
   "id": "05b1b7f2-be94-44af-9dc5-301f26f927bc",
   "metadata": {
    "tags": []
   },
   "outputs": [],
   "source": [
    "optimized_parameters = []"
   ]
  },
  {
   "cell_type": "code",
   "execution_count": 41,
   "id": "32085032-fef4-45fd-af9a-3766238e28f5",
   "metadata": {
    "tags": []
   },
   "outputs": [],
   "source": [
    "count = 0\n",
    "\n",
    "for row in np_p4m_data:\n",
    "    count += 1"
   ]
  },
  {
   "cell_type": "code",
   "execution_count": 45,
   "id": "fba2e8f1-2d62-4342-91bb-ef9836d36bec",
   "metadata": {
    "tags": []
   },
   "outputs": [],
   "source": [
    "test = np_p4m_data[0]"
   ]
  },
  {
   "cell_type": "code",
   "execution_count": 48,
   "id": "c9a42ec0-c5eb-45aa-b7d8-0488b96e48f3",
   "metadata": {
    "tags": []
   },
   "outputs": [
    {
     "data": {
      "text/html": [
       "<div>\n",
       "<style scoped>\n",
       "    .dataframe tbody tr th:only-of-type {\n",
       "        vertical-align: middle;\n",
       "    }\n",
       "\n",
       "    .dataframe tbody tr th {\n",
       "        vertical-align: top;\n",
       "    }\n",
       "\n",
       "    .dataframe thead th {\n",
       "        text-align: right;\n",
       "    }\n",
       "</style>\n",
       "<table border=\"1\" class=\"dataframe\">\n",
       "  <thead>\n",
       "    <tr style=\"text-align: right;\">\n",
       "      <th></th>\n",
       "      <th>fid</th>\n",
       "      <th>230320</th>\n",
       "      <th>230411</th>\n",
       "      <th>230508</th>\n",
       "      <th>230517</th>\n",
       "      <th>230531</th>\n",
       "      <th>230606</th>\n",
       "      <th>230621</th>\n",
       "      <th>230628</th>\n",
       "      <th>230705</th>\n",
       "    </tr>\n",
       "  </thead>\n",
       "  <tbody>\n",
       "    <tr>\n",
       "      <th>0</th>\n",
       "      <td>0</td>\n",
       "      <td>0.182725</td>\n",
       "      <td>0.165789</td>\n",
       "      <td>0.227001</td>\n",
       "      <td>0.385671</td>\n",
       "      <td>0.508490</td>\n",
       "      <td>0.535687</td>\n",
       "      <td>0.564664</td>\n",
       "      <td>0.515858</td>\n",
       "      <td>0.479447</td>\n",
       "    </tr>\n",
       "    <tr>\n",
       "      <th>1</th>\n",
       "      <td>1</td>\n",
       "      <td>0.174359</td>\n",
       "      <td>0.184462</td>\n",
       "      <td>0.253386</td>\n",
       "      <td>0.470824</td>\n",
       "      <td>0.620145</td>\n",
       "      <td>0.670449</td>\n",
       "      <td>0.662723</td>\n",
       "      <td>0.598335</td>\n",
       "      <td>0.553581</td>\n",
       "    </tr>\n",
       "    <tr>\n",
       "      <th>2</th>\n",
       "      <td>2</td>\n",
       "      <td>0.172820</td>\n",
       "      <td>0.163459</td>\n",
       "      <td>0.229042</td>\n",
       "      <td>0.400003</td>\n",
       "      <td>0.578092</td>\n",
       "      <td>0.629535</td>\n",
       "      <td>0.610831</td>\n",
       "      <td>0.554853</td>\n",
       "      <td>0.518658</td>\n",
       "    </tr>\n",
       "    <tr>\n",
       "      <th>3</th>\n",
       "      <td>3</td>\n",
       "      <td>0.170940</td>\n",
       "      <td>0.172965</td>\n",
       "      <td>0.336420</td>\n",
       "      <td>0.545538</td>\n",
       "      <td>0.724599</td>\n",
       "      <td>0.747898</td>\n",
       "      <td>0.685156</td>\n",
       "      <td>0.618057</td>\n",
       "      <td>0.572921</td>\n",
       "    </tr>\n",
       "    <tr>\n",
       "      <th>4</th>\n",
       "      <td>4</td>\n",
       "      <td>0.167800</td>\n",
       "      <td>0.171551</td>\n",
       "      <td>0.344100</td>\n",
       "      <td>0.549197</td>\n",
       "      <td>0.741916</td>\n",
       "      <td>0.764639</td>\n",
       "      <td>0.676880</td>\n",
       "      <td>0.604399</td>\n",
       "      <td>0.556512</td>\n",
       "    </tr>\n",
       "    <tr>\n",
       "      <th>...</th>\n",
       "      <td>...</td>\n",
       "      <td>...</td>\n",
       "      <td>...</td>\n",
       "      <td>...</td>\n",
       "      <td>...</td>\n",
       "      <td>...</td>\n",
       "      <td>...</td>\n",
       "      <td>...</td>\n",
       "      <td>...</td>\n",
       "      <td>...</td>\n",
       "    </tr>\n",
       "    <tr>\n",
       "      <th>3522</th>\n",
       "      <td>3523</td>\n",
       "      <td>0.178856</td>\n",
       "      <td>0.167983</td>\n",
       "      <td>0.204134</td>\n",
       "      <td>0.347043</td>\n",
       "      <td>0.439273</td>\n",
       "      <td>0.527266</td>\n",
       "      <td>0.529752</td>\n",
       "      <td>0.505838</td>\n",
       "      <td>0.486264</td>\n",
       "    </tr>\n",
       "    <tr>\n",
       "      <th>3523</th>\n",
       "      <td>3524</td>\n",
       "      <td>0.176830</td>\n",
       "      <td>0.161462</td>\n",
       "      <td>0.199147</td>\n",
       "      <td>0.328347</td>\n",
       "      <td>0.436534</td>\n",
       "      <td>0.508950</td>\n",
       "      <td>0.481346</td>\n",
       "      <td>0.444388</td>\n",
       "      <td>0.422986</td>\n",
       "    </tr>\n",
       "    <tr>\n",
       "      <th>3524</th>\n",
       "      <td>3525</td>\n",
       "      <td>0.172342</td>\n",
       "      <td>0.171893</td>\n",
       "      <td>0.228610</td>\n",
       "      <td>0.302541</td>\n",
       "      <td>0.430808</td>\n",
       "      <td>0.526337</td>\n",
       "      <td>0.527177</td>\n",
       "      <td>0.483826</td>\n",
       "      <td>0.450901</td>\n",
       "    </tr>\n",
       "    <tr>\n",
       "      <th>3525</th>\n",
       "      <td>3526</td>\n",
       "      <td>0.163084</td>\n",
       "      <td>0.175919</td>\n",
       "      <td>0.177936</td>\n",
       "      <td>0.239558</td>\n",
       "      <td>0.309786</td>\n",
       "      <td>0.384258</td>\n",
       "      <td>0.411261</td>\n",
       "      <td>0.397993</td>\n",
       "      <td>0.370264</td>\n",
       "    </tr>\n",
       "    <tr>\n",
       "      <th>3526</th>\n",
       "      <td>3527</td>\n",
       "      <td>0.171323</td>\n",
       "      <td>0.165833</td>\n",
       "      <td>0.234193</td>\n",
       "      <td>0.321244</td>\n",
       "      <td>0.471233</td>\n",
       "      <td>0.562041</td>\n",
       "      <td>0.538947</td>\n",
       "      <td>0.511200</td>\n",
       "      <td>0.450157</td>\n",
       "    </tr>\n",
       "  </tbody>\n",
       "</table>\n",
       "<p>3527 rows × 10 columns</p>\n",
       "</div>"
      ],
      "text/plain": [
       "       fid    230320    230411    230508    230517    230531    230606  \\\n",
       "0        0  0.182725  0.165789  0.227001  0.385671  0.508490  0.535687   \n",
       "1        1  0.174359  0.184462  0.253386  0.470824  0.620145  0.670449   \n",
       "2        2  0.172820  0.163459  0.229042  0.400003  0.578092  0.629535   \n",
       "3        3  0.170940  0.172965  0.336420  0.545538  0.724599  0.747898   \n",
       "4        4  0.167800  0.171551  0.344100  0.549197  0.741916  0.764639   \n",
       "...    ...       ...       ...       ...       ...       ...       ...   \n",
       "3522  3523  0.178856  0.167983  0.204134  0.347043  0.439273  0.527266   \n",
       "3523  3524  0.176830  0.161462  0.199147  0.328347  0.436534  0.508950   \n",
       "3524  3525  0.172342  0.171893  0.228610  0.302541  0.430808  0.526337   \n",
       "3525  3526  0.163084  0.175919  0.177936  0.239558  0.309786  0.384258   \n",
       "3526  3527  0.171323  0.165833  0.234193  0.321244  0.471233  0.562041   \n",
       "\n",
       "        230621    230628    230705  \n",
       "0     0.564664  0.515858  0.479447  \n",
       "1     0.662723  0.598335  0.553581  \n",
       "2     0.610831  0.554853  0.518658  \n",
       "3     0.685156  0.618057  0.572921  \n",
       "4     0.676880  0.604399  0.556512  \n",
       "...        ...       ...       ...  \n",
       "3522  0.529752  0.505838  0.486264  \n",
       "3523  0.481346  0.444388  0.422986  \n",
       "3524  0.527177  0.483826  0.450901  \n",
       "3525  0.411261  0.397993  0.370264  \n",
       "3526  0.538947  0.511200  0.450157  \n",
       "\n",
       "[3527 rows x 10 columns]"
      ]
     },
     "execution_count": 48,
     "metadata": {},
     "output_type": "execute_result"
    }
   ],
   "source": []
  },
  {
   "cell_type": "code",
   "execution_count": null,
   "id": "cf5f7d0d-78db-4f6c-b461-b8cacfca5925",
   "metadata": {},
   "outputs": [],
   "source": []
  }
 ],
 "metadata": {
  "kernelspec": {
   "display_name": "Python 3 (ipykernel)",
   "language": "python",
   "name": "python3"
  },
  "language_info": {
   "codemirror_mode": {
    "name": "ipython",
    "version": 3
   },
   "file_extension": ".py",
   "mimetype": "text/x-python",
   "name": "python",
   "nbconvert_exporter": "python",
   "pygments_lexer": "ipython3",
   "version": "3.10.13"
  }
 },
 "nbformat": 4,
 "nbformat_minor": 5
}
